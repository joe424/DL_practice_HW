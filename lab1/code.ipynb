{
 "cells": [
  {
   "cell_type": "code",
   "execution_count": 1,
   "metadata": {},
   "outputs": [],
   "source": [
    "import numpy as np\n",
    "import matplotlib.pyplot as plt"
   ]
  },
  {
   "cell_type": "code",
   "execution_count": 2,
   "metadata": {},
   "outputs": [],
   "source": [
    "def generate_linear(n=100):\n",
    "    pts = np.random.uniform(0, 1, (n, 2))\n",
    "    inputs = []\n",
    "    labels = []\n",
    "    for pt in pts:\n",
    "        inputs.append([pt[0], pt[1]])\n",
    "        distance = (pt[0] - pt[1]) / 1.414\n",
    "        if pt[0] > pt[1]:\n",
    "            labels.append(0)\n",
    "        else:\n",
    "            labels.append(1)\n",
    "    return np.array(inputs), np.array(labels).reshape(n, 1)\n",
    "\n",
    "def generate_XOR_easy():\n",
    "    inputs = []\n",
    "    labels = []\n",
    "    \n",
    "    for i in range(11):\n",
    "        inputs.append([0.1*i, 0.1*i])\n",
    "        labels.append(0)\n",
    "        \n",
    "        if 0.1*i == 0.5:\n",
    "            continue\n",
    "            \n",
    "        inputs.append([0.1*i, 1-0.1*i])\n",
    "        labels.append(1)\n",
    "        \n",
    "    return np.array(inputs), np.array(labels).reshape(21, 1)\n",
    "\n",
    "def show_result(x, y, pred_y):\n",
    "    import matplotlib.pyplot as plt\n",
    "    plt.subplot(1, 2, 1)\n",
    "    plt.title('Ground truth', fontsize=18)\n",
    "    for i in range(x.shape[0]):\n",
    "        if y[i] == 0:\n",
    "            plt.plot(x[i][0], x[i][1], 'ro')\n",
    "        else:\n",
    "            plt.plot(x[i][0], x[i][1], 'bo')\n",
    "    plt.subplot(1, 2, 2)\n",
    "    plt.title('Predict result', fontsize=18)\n",
    "    for i in range(x.shape[0]):\n",
    "        if pred_y[i] == 0:\n",
    "            plt.plot(x[i][0], x[i][1], 'ro')\n",
    "        else:\n",
    "            plt.plot(x[i][0], x[i][1], 'bo')\n",
    "    plt.show()\n",
    "    \n",
    "def show_result_2(x, y, pred_y, loss, accuracy):\n",
    "    plt.rcParams[\"figure.figsize\"] = (20,15)\n",
    "    plt.subplot(2, 2, 1)\n",
    "    plt.title('Ground truth', fontsize=18)\n",
    "    for i in range(x.shape[0]):\n",
    "        if y[i] == 0:\n",
    "            plt.plot(x[i][0], x[i][1], 'ro')\n",
    "        else:\n",
    "            plt.plot(x[i][0], x[i][1], 'bo')\n",
    "    plt.subplot(2, 2, 2)\n",
    "    plt.title('Predict result', fontsize=18)\n",
    "    for i in range(x.shape[0]):\n",
    "        if pred_y[i] == 0:\n",
    "            plt.plot(x[i][0], x[i][1], 'ro')\n",
    "        else:\n",
    "            plt.plot(x[i][0], x[i][1], 'bo')\n",
    "    plt.subplot(2, 2, 3)\n",
    "    plt.plot(*zip(*loss))\n",
    "    plt.title('epoch - loss', fontsize=18)\n",
    "    plt.subplot(2, 2, 4)\n",
    "    plt.plot(*zip(*accuracy))\n",
    "    plt.title('epoch - accuracy', fontsize=18)\n",
    "    plt.show()\n",
    "    \n",
    "def sigmoid(x):\n",
    "    return 1.0/(1.0 + np.exp(-x))\n",
    "\n",
    "def derivative_sigmoid(x):\n",
    "    return np.multiply(x, 1.0 - x)"
   ]
  },
  {
   "cell_type": "code",
   "execution_count": 3,
   "metadata": {},
   "outputs": [],
   "source": [
    "def network(epoch, lr, h1, h2, distribution, seed):\n",
    "\n",
    "    loss_list = []\n",
    "    accuracy_list = []\n",
    "\n",
    "    if distribution == 'XOR':\n",
    "        x, y = generate_XOR_easy()\n",
    "    elif distribution == 'linear':\n",
    "        x, y = generate_linear()\n",
    "        \n",
    "    np.random.seed(99999)\n",
    "    np.random.seed(seed)\n",
    "\n",
    "    w1 = np.random.rand(x.shape[1], h1)\n",
    "    w2 = np.random.rand(h1, h2)\n",
    "    w3 = np.random.rand(h2, 1)\n",
    "\n",
    "    for i in range(1, epoch+1):\n",
    "        z1 = np.dot(x, w1)\n",
    "        a1 = sigmoid(z1)\n",
    "        z2 = np.dot(a1, w2)\n",
    "        a2 = sigmoid(z2)\n",
    "        z3 = np.dot(a2, w3)\n",
    "        y_pred = sigmoid(z3)\n",
    "        y_pred_binary = [1 if x >= 0.5 else 0 for x in y_pred]\n",
    "\n",
    "        grad_y_pred = (y_pred - y) / (y_pred * (1 - y_pred)) # cross entropy loss\n",
    "        grad_z3 = np.multiply(grad_y_pred, derivative_sigmoid(y_pred))\n",
    "        grad_w3 = np.dot(a2.T, grad_z3)\n",
    "        grad_a2 = np.dot(grad_z3, w3.T)\n",
    "        grad_z2 = np.multiply(grad_a2, derivative_sigmoid(a2))\n",
    "        grad_w2 = np.dot(a1.T, grad_z2)\n",
    "        grad_a1 = np.dot(grad_z2, w2.T)\n",
    "        grad_z1 = np.multiply(grad_a1, derivative_sigmoid(a1))\n",
    "        grad_w1 = np.dot(x.T, grad_z1)\n",
    "\n",
    "        w1 -= lr * grad_w1\n",
    "        w2 -= lr * grad_w2\n",
    "        w3 -= lr * grad_w3\n",
    "\n",
    "        accuracy = sum([1 if y_pred_binary[j] == y[j] else 0 for j in range(y.shape[0])]) / y.shape[0]\n",
    "        loss = ((-1)*(y*np.log(y_pred)+(1-y)*np.log(1-y_pred))).sum() # cross entropy loss\n",
    "        accuracy_list.append((i, accuracy))\n",
    "        loss_list.append((i, loss))\n",
    "\n",
    "        if accuracy == 1:\n",
    "            print('epoch:', i, 'accuracy:', accuracy, 'loss:', loss)\n",
    "            break\n",
    "\n",
    "        if i % 100 == 0:\n",
    "            print('epoch:', i, 'accuracy:', accuracy, 'loss:', loss)\n",
    "            \n",
    "#     print(y_pred)\n",
    "    show_result(x, y, y_pred_binary)\n",
    "#     show_result_2(x, y, y_pred_binary, loss_list, accuracy_list)\n",
    "\n",
    "def network_(epoch, lr, h1, h2, distribution, seed):\n",
    "\n",
    "    loss_list = []\n",
    "    accuracy_list = []\n",
    "\n",
    "    if distribution == 'XOR':\n",
    "        x, y = generate_XOR_easy()\n",
    "    elif distribution == 'linear':\n",
    "        x, y = generate_linear()\n",
    "        \n",
    "    np.random.seed(99999)\n",
    "    np.random.seed(seed)\n",
    "\n",
    "    w1 = np.random.rand(x.shape[1], h1)\n",
    "    w2 = np.random.rand(h1, h2)\n",
    "    w3 = np.random.rand(h2, 1)\n",
    "\n",
    "    for i in range(1, epoch+1):\n",
    "        z1 = np.dot(x, w1)\n",
    "        a1 = sigmoid(z1)\n",
    "        z2 = np.dot(a1, w2)\n",
    "        a2 = sigmoid(z2)\n",
    "        z3 = np.dot(a2, w3)\n",
    "        y_pred = sigmoid(z3)\n",
    "        y_pred_binary = [1 if x >= 0.5 else 0 for x in y_pred]\n",
    "\n",
    "        grad_y_pred = (y_pred - y) / (y_pred * (1 - y_pred)) # cross entropy loss\n",
    "        grad_z3 = np.multiply(grad_y_pred, derivative_sigmoid(y_pred))\n",
    "        grad_w3 = np.dot(a2.T, grad_z3)\n",
    "        grad_a2 = np.dot(grad_z3, w3.T)\n",
    "        grad_z2 = np.multiply(grad_a2, derivative_sigmoid(a2))\n",
    "        grad_w2 = np.dot(a1.T, grad_z2)\n",
    "        grad_a1 = np.dot(grad_z2, w2.T)\n",
    "        grad_z1 = np.multiply(grad_a1, derivative_sigmoid(a1))\n",
    "        grad_w1 = np.dot(x.T, grad_z1)\n",
    "\n",
    "        w1 -= lr * grad_w1\n",
    "        w2 -= lr * grad_w2\n",
    "        w3 -= lr * grad_w3\n",
    "\n",
    "        accuracy = sum([1 if y_pred_binary[j] == y[j] else 0 for j in range(y.shape[0])]) / y.shape[0]\n",
    "        loss = ((-1)*(y*np.log(y_pred)+(1-y)*np.log(1-y_pred))).sum() # cross entropy loss\n",
    "        accuracy_list.append((i, accuracy))\n",
    "        loss_list.append((i, loss))\n",
    "\n",
    "        if accuracy == 1:\n",
    "            return i\n",
    "        \n",
    "    return epoch\n",
    "\n",
    "def network_no_activation_func(epoch, lr, h1, h2, distribution, seed):\n",
    "\n",
    "    loss_list = []\n",
    "    accuracy_list = []\n",
    "\n",
    "    if distribution == 'XOR':\n",
    "        x, y = generate_XOR_easy()\n",
    "    elif distribution == 'linear':\n",
    "        x, y = generate_linear()\n",
    "        \n",
    "    np.random.seed(99999)\n",
    "    np.random.seed(seed)\n",
    "\n",
    "    w1 = np.random.rand(x.shape[1], h1)\n",
    "    w2 = np.random.rand(h1, h2)\n",
    "    w3 = np.random.rand(h2, 1)\n",
    "\n",
    "    for i in range(1, epoch+1):\n",
    "        z1 = np.dot(x, w1)\n",
    "        z2 = np.dot(z1, w2)\n",
    "        y_pred = np.dot(z2, w3)\n",
    "        y_pred_binary = [1 if x >= 0.5 else 0 for x in y_pred]\n",
    "\n",
    "        grad_y_pred = (y_pred - y) / (y_pred * (1 - y_pred)) # cross entropy loss\n",
    "        grad_w3 = np.dot(z2.T, grad_y_pred)\n",
    "        grad_z2 = np.dot(grad_y_pred, w3.T)\n",
    "        grad_w2 = np.dot(z1.T, grad_z2)\n",
    "        grad_z1 = np.dot(grad_z2, w2.T)\n",
    "        grad_w1 = np.dot(x.T, grad_z1)\n",
    "\n",
    "        w1 -= lr * grad_w1\n",
    "        w2 -= lr * grad_w2\n",
    "        w3 -= lr * grad_w3\n",
    "\n",
    "        accuracy = sum([1 if y_pred_binary[j] == y[j] else 0 for j in range(y.shape[0])]) / y.shape[0]\n",
    "        loss = ((-1)*(y*np.log(y_pred)+(1-y)*np.log(1-y_pred))).sum() # cross entropy loss\n",
    "        accuracy_list.append((i, accuracy))\n",
    "        loss_list.append((i, loss))\n",
    "\n",
    "        if accuracy == 1:\n",
    "            print('epoch:', i, 'accuracy:', accuracy, 'loss:', loss)\n",
    "            break\n",
    "            \n",
    "        if i % 100 == 0:\n",
    "            print('epoch:', i, 'accuracy:', accuracy, 'loss:', loss)\n",
    "            \n",
    "#     print(y_pred)\n",
    "    show_result(x, y, y_pred_binary)\n",
    "#     show_result_2(x, y, y_pred_binary, loss_list, accuracy_list)"
   ]
  },
  {
   "cell_type": "code",
   "execution_count": 4,
   "metadata": {},
   "outputs": [
    {
     "name": "stdout",
     "output_type": "stream",
     "text": [
      "epoch: 100 accuracy: 0.5238095238095238 loss: 14.535359703924756\n",
      "epoch: 200 accuracy: 0.5238095238095238 loss: 14.534297101623464\n",
      "epoch: 300 accuracy: 0.5238095238095238 loss: 14.533385016210135\n",
      "epoch: 400 accuracy: 0.5238095238095238 loss: 14.532525558280865\n",
      "epoch: 500 accuracy: 0.5238095238095238 loss: 14.531629213192884\n",
      "epoch: 600 accuracy: 0.5238095238095238 loss: 14.53059186751609\n",
      "epoch: 700 accuracy: 0.5238095238095238 loss: 14.529264169943021\n",
      "epoch: 800 accuracy: 0.5238095238095238 loss: 14.527394749015413\n",
      "epoch: 900 accuracy: 0.5238095238095238 loss: 14.524501616940366\n",
      "epoch: 1000 accuracy: 0.5238095238095238 loss: 14.519527797093339\n",
      "epoch: 1100 accuracy: 0.5238095238095238 loss: 14.509718671616021\n",
      "epoch: 1200 accuracy: 0.5238095238095238 loss: 14.48590256084938\n",
      "epoch: 1300 accuracy: 0.5238095238095238 loss: 14.407008548046027\n",
      "epoch: 1400 accuracy: 0.5238095238095238 loss: 14.110971988988853\n",
      "epoch: 1500 accuracy: 0.8571428571428571 loss: 13.30980709065917\n",
      "epoch: 1600 accuracy: 0.5238095238095238 loss: 13.018915242873533\n",
      "epoch: 1700 accuracy: 0.8095238095238095 loss: 8.684009429198237\n",
      "epoch: 1769 accuracy: 1.0 loss: 4.3954408074595275\n"
     ]
    },
    {
     "data": {
      "image/png": "[encoded data removed]",
      "text/plain": [
       "<Figure size 432x288 with 2 Axes>"
      ]
     },
     "metadata": {
      "needs_background": "light"
     },
     "output_type": "display_data"
    }
   ],
   "source": [
    "network(epoch=10000, lr=0.1, h1=3, h2=3, distribution='XOR', seed=0)"
   ]
  },
  {
   "cell_type": "code",
   "execution_count": 5,
   "metadata": {},
   "outputs": [
    {
     "name": "stdout",
     "output_type": "stream",
     "text": [
      "epoch: 100 accuracy: 0.55 loss: 68.75568788343841\n",
      "epoch: 200 accuracy: 0.55 loss: 68.6833838173561\n",
      "epoch: 300 accuracy: 0.55 loss: 68.53864128496537\n",
      "epoch: 400 accuracy: 0.55 loss: 67.99589128242025\n",
      "epoch: 500 accuracy: 0.64 loss: 62.160779104889706\n",
      "epoch: 600 accuracy: 0.97 loss: 22.387828494839425\n",
      "epoch: 700 accuracy: 0.98 loss: 9.521101813263513\n",
      "epoch: 800 accuracy: 0.99 loss: 5.777187527724762\n",
      "epoch: 900 accuracy: 0.99 loss: 4.138501334215425\n",
      "epoch: 1000 accuracy: 0.99 loss: 3.287730848046888\n",
      "epoch: 1100 accuracy: 0.99 loss: 2.769802365828347\n",
      "epoch: 1200 accuracy: 0.99 loss: 2.418428673316855\n",
      "epoch: 1300 accuracy: 0.99 loss: 2.161932413322647\n",
      "epoch: 1400 accuracy: 0.99 loss: 1.9646697862054379\n",
      "epoch: 1486 accuracy: 1.0 loss: 1.8271699427198258\n"
     ]
    },
    {
     "data": {
      "image/png": "[encoded data removed]",
      "text/plain": [
       "<Figure size 432x288 with 2 Axes>"
      ]
     },
     "metadata": {
      "needs_background": "light"
     },
     "output_type": "display_data"
    }
   ],
   "source": [
    "network(epoch=10000, lr=0.01, h1=2, h2=2, distribution='linear', seed=0)"
   ]
  },
  {
   "cell_type": "code",
   "execution_count": 6,
   "metadata": {},
   "outputs": [
    {
     "name": "stdout",
     "output_type": "stream",
     "text": [
      "50000 1769 3354 17327 34644\n",
      "50000 9292 17510 50000 50000\n",
      "50000 3520 6700 34021 50000\n",
      "50000 1223 2413 12036 24066\n",
      "50000 951 1909 9535 19067\n"
     ]
    }
   ],
   "source": [
    "for i in range(5):\n",
    "    print(network_(epoch=50000, lr=0.5, h1=3, h2=3, distribution='XOR', seed=i),\n",
    "          network_(epoch=50000, lr=0.1, h1=3, h2=3, distribution='XOR', seed=i),\n",
    "          network_(epoch=50000, lr=0.05, h1=3, h2=3, distribution='XOR', seed=i),\n",
    "          network_(epoch=50000, lr=0.01, h1=3, h2=3, distribution='XOR', seed=i),\n",
    "          network_(epoch=50000, lr=0.005, h1=3, h2=3, distribution='XOR', seed=i))"
   ]
  },
  {
   "cell_type": "code",
   "execution_count": 7,
   "metadata": {},
   "outputs": [
    {
     "name": "stdout",
     "output_type": "stream",
     "text": [
      "106 296 1479 2958 14783\n",
      "277 243 1196 2388 11919\n",
      "392 328 1669 3339 16696\n",
      "97 159 789 1574 7860\n",
      "116 2143 1583 3166 15827\n"
     ]
    }
   ],
   "source": [
    "for i in range(5):\n",
    "    print(network_(epoch=50000, lr=0.1, h1=2, h2=2, distribution='linear', seed=i),\n",
    "          network_(epoch=50000, lr=0.05, h1=2, h2=2, distribution='linear', seed=i),\n",
    "          network_(epoch=50000, lr=0.01, h1=2, h2=2, distribution='linear', seed=i),\n",
    "          network_(epoch=50000, lr=0.005, h1=2, h2=2, distribution='linear', seed=i),\n",
    "          network_(epoch=50000, lr=0.001, h1=2, h2=2, distribution='linear', seed=i))"
   ]
  },
  {
   "cell_type": "code",
   "execution_count": 8,
   "metadata": {},
   "outputs": [
    {
     "name": "stdout",
     "output_type": "stream",
     "text": [
      "50000 1769 1778 1175\n",
      "50000 9292 2076 1646\n",
      "10323 3520 2320 1725\n",
      "50000 1223 1387 1407\n",
      "50000 951 963 870\n"
     ]
    }
   ],
   "source": [
    "for i in range(5):\n",
    "    print(network_(epoch=50000, lr=0.1, h1=2, h2=2, distribution='XOR', seed=i),\n",
    "          network_(epoch=50000, lr=0.1, h1=3, h2=3, distribution='XOR', seed=i),\n",
    "          network_(epoch=50000, lr=0.1, h1=5, h2=5, distribution='XOR', seed=i),\n",
    "          network_(epoch=50000, lr=0.1, h1=10, h2=10, distribution='XOR', seed=i))"
   ]
  },
  {
   "cell_type": "code",
   "execution_count": 9,
   "metadata": {},
   "outputs": [
    {
     "name": "stdout",
     "output_type": "stream",
     "text": [
      "275 50000 50000 59\n"
     ]
    },
    {
     "name": "stderr",
     "output_type": "stream",
     "text": [
      "d:\\miniconda3\\lib\\site-packages\\ipykernel_launcher.py:83: RuntimeWarning: invalid value encountered in true_divide\n",
      "d:\\miniconda3\\lib\\site-packages\\ipykernel_launcher.py:98: RuntimeWarning: divide by zero encountered in log\n",
      "d:\\miniconda3\\lib\\site-packages\\ipykernel_launcher.py:98: RuntimeWarning: invalid value encountered in multiply\n",
      "d:\\miniconda3\\lib\\site-packages\\ipykernel_launcher.py:81: RuntimeWarning: invalid value encountered in greater_equal\n"
     ]
    },
    {
     "name": "stdout",
     "output_type": "stream",
     "text": [
      "176 50000 50000 42\n",
      "196 50000 50000 160\n",
      "159 50000 65 39\n",
      "103 50000 50000 66\n"
     ]
    }
   ],
   "source": [
    "for i in range(5):\n",
    "    print(network_(epoch=50000, lr=0.1, h1=2, h2=2, distribution='linear', seed=i),\n",
    "          network_(epoch=50000, lr=0.1, h1=3, h2=3, distribution='linear', seed=i),\n",
    "          network_(epoch=50000, lr=0.1, h1=5, h2=5, distribution='linear', seed=i),\n",
    "          network_(epoch=50000, lr=0.1, h1=10, h2=10, distribution='linear', seed=i))"
   ]
  },
  {
   "cell_type": "code",
   "execution_count": 10,
   "metadata": {},
   "outputs": [
    {
     "name": "stdout",
     "output_type": "stream",
     "text": [
      "epoch: 100 accuracy: 0.5238095238095238 loss: nan\n",
      "epoch: 200 accuracy: 0.5238095238095238 loss: nan\n",
      "epoch: 300 accuracy: 0.5238095238095238 loss: nan\n",
      "epoch: 400 accuracy: 0.5238095238095238 loss: nan\n",
      "epoch: 500 accuracy: 0.5238095238095238 loss: nan\n",
      "epoch: 600 accuracy: 0.5238095238095238 loss: nan\n",
      "epoch: 700 accuracy: 0.5238095238095238 loss: nan\n",
      "epoch: 800 accuracy: 0.5238095238095238 loss: nan\n",
      "epoch: 900 accuracy: 0.5238095238095238 loss: nan\n",
      "epoch: 1000 accuracy: 0.5238095238095238 loss: nan\n",
      "epoch: 1100 accuracy: 0.5238095238095238 loss: nan\n",
      "epoch: 1200 accuracy: 0.5238095238095238 loss: nan\n",
      "epoch: 1300 accuracy: 0.5238095238095238 loss: nan\n"
     ]
    },
    {
     "name": "stderr",
     "output_type": "stream",
     "text": [
      "d:\\miniconda3\\lib\\site-packages\\ipykernel_launcher.py:130: RuntimeWarning: invalid value encountered in true_divide\n",
      "d:\\miniconda3\\lib\\site-packages\\ipykernel_launcher.py:142: RuntimeWarning: divide by zero encountered in log\n",
      "d:\\miniconda3\\lib\\site-packages\\ipykernel_launcher.py:142: RuntimeWarning: invalid value encountered in multiply\n",
      "d:\\miniconda3\\lib\\site-packages\\ipykernel_launcher.py:142: RuntimeWarning: invalid value encountered in log\n",
      "d:\\miniconda3\\lib\\site-packages\\ipykernel_launcher.py:128: RuntimeWarning: invalid value encountered in greater_equal\n"
     ]
    },
    {
     "name": "stdout",
     "output_type": "stream",
     "text": [
      "epoch: 1400 accuracy: 0.5238095238095238 loss: nan\n",
      "epoch: 1500 accuracy: 0.5238095238095238 loss: nan\n",
      "epoch: 1600 accuracy: 0.5238095238095238 loss: nan\n",
      "epoch: 1700 accuracy: 0.5238095238095238 loss: nan\n",
      "epoch: 1800 accuracy: 0.5238095238095238 loss: nan\n",
      "epoch: 1900 accuracy: 0.5238095238095238 loss: nan\n",
      "epoch: 2000 accuracy: 0.5238095238095238 loss: nan\n",
      "epoch: 2100 accuracy: 0.5238095238095238 loss: nan\n",
      "epoch: 2200 accuracy: 0.5238095238095238 loss: nan\n",
      "epoch: 2300 accuracy: 0.5238095238095238 loss: nan\n",
      "epoch: 2400 accuracy: 0.5238095238095238 loss: nan\n",
      "epoch: 2500 accuracy: 0.5238095238095238 loss: nan\n",
      "epoch: 2600 accuracy: 0.5238095238095238 loss: nan\n",
      "epoch: 2700 accuracy: 0.5238095238095238 loss: nan\n",
      "epoch: 2800 accuracy: 0.5238095238095238 loss: nan\n",
      "epoch: 2900 accuracy: 0.5238095238095238 loss: nan\n",
      "epoch: 3000 accuracy: 0.5238095238095238 loss: nan\n",
      "epoch: 3100 accuracy: 0.5238095238095238 loss: nan\n",
      "epoch: 3200 accuracy: 0.5238095238095238 loss: nan\n",
      "epoch: 3300 accuracy: 0.5238095238095238 loss: nan\n",
      "epoch: 3400 accuracy: 0.5238095238095238 loss: nan\n",
      "epoch: 3500 accuracy: 0.5238095238095238 loss: nan\n",
      "epoch: 3600 accuracy: 0.5238095238095238 loss: nan\n",
      "epoch: 3700 accuracy: 0.5238095238095238 loss: nan\n",
      "epoch: 3800 accuracy: 0.5238095238095238 loss: nan\n",
      "epoch: 3900 accuracy: 0.5238095238095238 loss: nan\n",
      "epoch: 4000 accuracy: 0.5238095238095238 loss: nan\n",
      "epoch: 4100 accuracy: 0.5238095238095238 loss: nan\n",
      "epoch: 4200 accuracy: 0.5238095238095238 loss: nan\n",
      "epoch: 4300 accuracy: 0.5238095238095238 loss: nan\n",
      "epoch: 4400 accuracy: 0.5238095238095238 loss: nan\n",
      "epoch: 4500 accuracy: 0.5238095238095238 loss: nan\n",
      "epoch: 4600 accuracy: 0.5238095238095238 loss: nan\n",
      "epoch: 4700 accuracy: 0.5238095238095238 loss: nan\n",
      "epoch: 4800 accuracy: 0.5238095238095238 loss: nan\n",
      "epoch: 4900 accuracy: 0.5238095238095238 loss: nan\n",
      "epoch: 5000 accuracy: 0.5238095238095238 loss: nan\n",
      "epoch: 5100 accuracy: 0.5238095238095238 loss: nan\n",
      "epoch: 5200 accuracy: 0.5238095238095238 loss: nan\n",
      "epoch: 5300 accuracy: 0.5238095238095238 loss: nan\n",
      "epoch: 5400 accuracy: 0.5238095238095238 loss: nan\n",
      "epoch: 5500 accuracy: 0.5238095238095238 loss: nan\n",
      "epoch: 5600 accuracy: 0.5238095238095238 loss: nan\n",
      "epoch: 5700 accuracy: 0.5238095238095238 loss: nan\n",
      "epoch: 5800 accuracy: 0.5238095238095238 loss: nan\n",
      "epoch: 5900 accuracy: 0.5238095238095238 loss: nan\n",
      "epoch: 6000 accuracy: 0.5238095238095238 loss: nan\n",
      "epoch: 6100 accuracy: 0.5238095238095238 loss: nan\n",
      "epoch: 6200 accuracy: 0.5238095238095238 loss: nan\n",
      "epoch: 6300 accuracy: 0.5238095238095238 loss: nan\n",
      "epoch: 6400 accuracy: 0.5238095238095238 loss: nan\n",
      "epoch: 6500 accuracy: 0.5238095238095238 loss: nan\n",
      "epoch: 6600 accuracy: 0.5238095238095238 loss: nan\n",
      "epoch: 6700 accuracy: 0.5238095238095238 loss: nan\n",
      "epoch: 6800 accuracy: 0.5238095238095238 loss: nan\n",
      "epoch: 6900 accuracy: 0.5238095238095238 loss: nan\n",
      "epoch: 7000 accuracy: 0.5238095238095238 loss: nan\n",
      "epoch: 7100 accuracy: 0.5238095238095238 loss: nan\n",
      "epoch: 7200 accuracy: 0.5238095238095238 loss: nan\n",
      "epoch: 7300 accuracy: 0.5238095238095238 loss: nan\n",
      "epoch: 7400 accuracy: 0.5238095238095238 loss: nan\n",
      "epoch: 7500 accuracy: 0.5238095238095238 loss: nan\n",
      "epoch: 7600 accuracy: 0.5238095238095238 loss: nan\n",
      "epoch: 7700 accuracy: 0.5238095238095238 loss: nan\n",
      "epoch: 7800 accuracy: 0.5238095238095238 loss: nan\n",
      "epoch: 7900 accuracy: 0.5238095238095238 loss: nan\n",
      "epoch: 8000 accuracy: 0.5238095238095238 loss: nan\n",
      "epoch: 8100 accuracy: 0.5238095238095238 loss: nan\n",
      "epoch: 8200 accuracy: 0.5238095238095238 loss: nan\n",
      "epoch: 8300 accuracy: 0.5238095238095238 loss: nan\n",
      "epoch: 8400 accuracy: 0.5238095238095238 loss: nan\n",
      "epoch: 8500 accuracy: 0.5238095238095238 loss: nan\n",
      "epoch: 8600 accuracy: 0.5238095238095238 loss: nan\n",
      "epoch: 8700 accuracy: 0.5238095238095238 loss: nan\n",
      "epoch: 8800 accuracy: 0.5238095238095238 loss: nan\n",
      "epoch: 8900 accuracy: 0.5238095238095238 loss: nan\n",
      "epoch: 9000 accuracy: 0.5238095238095238 loss: nan\n",
      "epoch: 9100 accuracy: 0.5238095238095238 loss: nan\n",
      "epoch: 9200 accuracy: 0.5238095238095238 loss: nan\n",
      "epoch: 9300 accuracy: 0.5238095238095238 loss: nan\n",
      "epoch: 9400 accuracy: 0.5238095238095238 loss: nan\n",
      "epoch: 9500 accuracy: 0.5238095238095238 loss: nan\n",
      "epoch: 9600 accuracy: 0.5238095238095238 loss: nan\n",
      "epoch: 9700 accuracy: 0.5238095238095238 loss: nan\n",
      "epoch: 9800 accuracy: 0.5238095238095238 loss: nan\n",
      "epoch: 9900 accuracy: 0.5238095238095238 loss: nan\n",
      "epoch: 10000 accuracy: 0.5238095238095238 loss: nan\n"
     ]
    },
    {
     "data": {
      "image/png": "[encoded data removed]",
      "text/plain": [
       "<Figure size 432x288 with 2 Axes>"
      ]
     },
     "metadata": {
      "needs_background": "light"
     },
     "output_type": "display_data"
    }
   ],
   "source": [
    "network_no_activation_func(epoch=10000, lr=0.1, h1=3, h2=3, distribution='XOR', seed=0)"
   ]
  },
  {
   "cell_type": "code",
   "execution_count": 11,
   "metadata": {},
   "outputs": [
    {
     "name": "stderr",
     "output_type": "stream",
     "text": [
      "d:\\miniconda3\\lib\\site-packages\\ipykernel_launcher.py:142: RuntimeWarning: invalid value encountered in log\n"
     ]
    },
    {
     "name": "stdout",
     "output_type": "stream",
     "text": [
      "epoch: 100 accuracy: 0.55 loss: nan\n",
      "epoch: 200 accuracy: 0.55 loss: nan\n",
      "epoch: 300 accuracy: 0.55 loss: nan\n",
      "epoch: 400 accuracy: 0.55 loss: nan\n",
      "epoch: 500 accuracy: 0.55 loss: nan\n",
      "epoch: 600 accuracy: 0.55 loss: nan\n",
      "epoch: 700 accuracy: 0.55 loss: nan\n",
      "epoch: 800 accuracy: 0.55 loss: nan\n",
      "epoch: 900 accuracy: 0.55 loss: nan\n",
      "epoch: 1000 accuracy: 0.55 loss: nan\n",
      "epoch: 1100 accuracy: 0.55 loss: nan\n",
      "epoch: 1200 accuracy: 0.55 loss: nan\n",
      "epoch: 1300 accuracy: 0.55 loss: nan\n",
      "epoch: 1400 accuracy: 0.55 loss: nan\n",
      "epoch: 1500 accuracy: 0.55 loss: nan\n",
      "epoch: 1600 accuracy: 0.55 loss: nan\n",
      "epoch: 1700 accuracy: 0.55 loss: nan\n",
      "epoch: 1800 accuracy: 0.55 loss: nan\n",
      "epoch: 1900 accuracy: 0.55 loss: nan\n",
      "epoch: 2000 accuracy: 0.55 loss: nan\n",
      "epoch: 2100 accuracy: 0.55 loss: nan\n",
      "epoch: 2200 accuracy: 0.55 loss: nan\n",
      "epoch: 2300 accuracy: 0.55 loss: nan\n",
      "epoch: 2400 accuracy: 0.55 loss: nan\n",
      "epoch: 2500 accuracy: 0.55 loss: nan\n",
      "epoch: 2600 accuracy: 0.55 loss: nan\n",
      "epoch: 2700 accuracy: 0.55 loss: nan\n",
      "epoch: 2800 accuracy: 0.55 loss: nan\n",
      "epoch: 2900 accuracy: 0.55 loss: nan\n",
      "epoch: 3000 accuracy: 0.55 loss: nan\n",
      "epoch: 3100 accuracy: 0.55 loss: nan\n",
      "epoch: 3200 accuracy: 0.55 loss: nan\n",
      "epoch: 3300 accuracy: 0.55 loss: nan\n",
      "epoch: 3400 accuracy: 0.55 loss: nan\n",
      "epoch: 3500 accuracy: 0.55 loss: nan\n",
      "epoch: 3600 accuracy: 0.55 loss: nan\n",
      "epoch: 3700 accuracy: 0.55 loss: nan\n",
      "epoch: 3800 accuracy: 0.55 loss: nan\n",
      "epoch: 3900 accuracy: 0.55 loss: nan\n",
      "epoch: 4000 accuracy: 0.55 loss: nan\n",
      "epoch: 4100 accuracy: 0.55 loss: nan\n",
      "epoch: 4200 accuracy: 0.55 loss: nan\n",
      "epoch: 4300 accuracy: 0.55 loss: nan\n",
      "epoch: 4400 accuracy: 0.55 loss: nan\n",
      "epoch: 4500 accuracy: 0.55 loss: nan\n",
      "epoch: 4600 accuracy: 0.55 loss: nan\n",
      "epoch: 4700 accuracy: 0.55 loss: nan\n",
      "epoch: 4800 accuracy: 0.55 loss: nan\n",
      "epoch: 4900 accuracy: 0.55 loss: nan\n",
      "epoch: 5000 accuracy: 0.55 loss: nan\n",
      "epoch: 5100 accuracy: 0.55 loss: nan\n",
      "epoch: 5200 accuracy: 0.55 loss: nan\n",
      "epoch: 5300 accuracy: 0.55 loss: nan\n",
      "epoch: 5400 accuracy: 0.55 loss: nan\n",
      "epoch: 5500 accuracy: 0.55 loss: nan\n",
      "epoch: 5600 accuracy: 0.55 loss: nan\n",
      "epoch: 5700 accuracy: 0.55 loss: nan\n",
      "epoch: 5800 accuracy: 0.55 loss: nan\n",
      "epoch: 5900 accuracy: 0.55 loss: nan\n",
      "epoch: 6000 accuracy: 0.55 loss: nan\n",
      "epoch: 6100 accuracy: 0.55 loss: nan\n",
      "epoch: 6200 accuracy: 0.55 loss: nan\n",
      "epoch: 6300 accuracy: 0.55 loss: nan\n",
      "epoch: 6400 accuracy: 0.55 loss: nan\n",
      "epoch: 6500 accuracy: 0.55 loss: nan\n",
      "epoch: 6600 accuracy: 0.55 loss: nan\n",
      "epoch: 6700 accuracy: 0.55 loss: nan\n",
      "epoch: 6800 accuracy: 0.55 loss: nan\n",
      "epoch: 6900 accuracy: 0.55 loss: nan\n",
      "epoch: 7000 accuracy: 0.55 loss: nan\n",
      "epoch: 7100 accuracy: 0.55 loss: nan\n",
      "epoch: 7200 accuracy: 0.55 loss: nan\n",
      "epoch: 7300 accuracy: 0.55 loss: nan\n",
      "epoch: 7400 accuracy: 0.55 loss: nan\n",
      "epoch: 7500 accuracy: 0.55 loss: nan\n",
      "epoch: 7600 accuracy: 0.55 loss: nan\n",
      "epoch: 7700 accuracy: 0.55 loss: nan\n",
      "epoch: 7800 accuracy: 0.55 loss: nan\n",
      "epoch: 7900 accuracy: 0.55 loss: nan\n",
      "epoch: 8000 accuracy: 0.55 loss: nan\n",
      "epoch: 8100 accuracy: 0.55 loss: nan\n",
      "epoch: 8200 accuracy: 0.55 loss: nan\n",
      "epoch: 8300 accuracy: 0.55 loss: nan\n",
      "epoch: 8400 accuracy: 0.55 loss: nan\n",
      "epoch: 8500 accuracy: 0.55 loss: nan\n",
      "epoch: 8600 accuracy: 0.55 loss: nan\n",
      "epoch: 8700 accuracy: 0.55 loss: nan\n",
      "epoch: 8800 accuracy: 0.55 loss: nan\n",
      "epoch: 8900 accuracy: 0.55 loss: nan\n",
      "epoch: 9000 accuracy: 0.55 loss: nan\n",
      "epoch: 9100 accuracy: 0.55 loss: nan\n",
      "epoch: 9200 accuracy: 0.55 loss: nan\n",
      "epoch: 9300 accuracy: 0.55 loss: nan\n",
      "epoch: 9400 accuracy: 0.55 loss: nan\n",
      "epoch: 9500 accuracy: 0.55 loss: nan\n",
      "epoch: 9600 accuracy: 0.55 loss: nan\n",
      "epoch: 9700 accuracy: 0.55 loss: nan\n",
      "epoch: 9800 accuracy: 0.55 loss: nan\n",
      "epoch: 9900 accuracy: 0.55 loss: nan\n",
      "epoch: 10000 accuracy: 0.55 loss: nan\n"
     ]
    },
    {
     "data": {
      "image/png": "[encoded data removed]",
      "text/plain": [
       "<Figure size 432x288 with 2 Axes>"
      ]
     },
     "metadata": {
      "needs_background": "light"
     },
     "output_type": "display_data"
    }
   ],
   "source": [
    "network_no_activation_func(epoch=10000, lr=0.01, h1=2, h2=2, distribution='linear', seed=0)"
   ]
  },
  {
   "cell_type": "code",
   "execution_count": null,
   "metadata": {},
   "outputs": [],
   "source": []
  }
 ],
 "metadata": {
  "kernelspec": {
   "display_name": "Python 3",
   "language": "python",
   "name": "python3"
  },
  "language_info": {
   "codemirror_mode": {
    "name": "ipython",
    "version": 3
   },
   "file_extension": ".py",
   "mimetype": "text/x-python",
   "name": "python",
   "nbconvert_exporter": "python",
   "pygments_lexer": "ipython3",
   "version": "3.7.6"
  }
 },
 "nbformat": 4,
 "nbformat_minor": 4
}
